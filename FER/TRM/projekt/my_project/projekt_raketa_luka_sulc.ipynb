{
 "cells": [
  {
   "cell_type": "markdown",
   "id": "2f33d70c",
   "metadata": {},
   "source": [
    "# Sažetak "
   ]
  },
  {
   "cell_type": "markdown",
   "id": "bd7bc86b",
   "metadata": {},
   "source": [
    "Računalno modeliranje kretanja rakete odnosno računska simulacija trajektorije rakete se na osnovnoj razini može tretirati kao prigušeno njihalo. Na oboje utječu tri sile: gravitacijska sila, sila otpora zraka i pokretačke sile. Ako govorimo o kretanju rakete, ove sile su opisane masom rakete, atmosferskim otporom, otporom valova i potisne sile uzrokovane izgaranjem goriva. Vidjet ćemo kako nije trivijalno modelirati trajektoriju rakete te ćemo uvesti mnoge pretpostavke i pojednostavljenja kako bismo donekle uspjeli modelirati kretanje rakete.\n"
   ]
  },
  {
   "cell_type": "markdown",
   "id": "31be8c03",
   "metadata": {},
   "source": [
    "# Uvod s istraživanjem područja\n"
   ]
  },
  {
   "cell_type": "markdown",
   "id": "59ce23ee",
   "metadata": {},
   "source": [
    "Računalno modeliranje kretanja rakete zahtjevan je postupak koji iziskuje izrazito dobra predznanja iz područja fizike, matematike i programiranja. Potrebno je dobro razumjeti sve sile koje djeluju na raketu i kako se mijenjaju kroz vrijeme, potrebno je ispravno matematički opisati te promijene, te je potrebno napisati efikasan i brz kod koji će pouzdano izračunati trajektoriju kretanja rakete. Svaka, pa i najmanja pogreška može imati katastrofalne posljedice, kako novčane tako i ljudske.\n",
    "\n",
    "Yuri Gagarin je 1961. godine, u raketi \"Vostok 1\", bio prvi čovjek u svemiru, a samo 8 godina kasnije, 1969., u sklopu 'Apollo' programa, prvi ljudi su sletjeli na Mjesec. No, unatoč velikim uspjesima u istraživanju svemira, 1986. godine se dogodila tragična nesreća u kojoj je raketa \"Challenger\", koja je nosila posadu od sedmero ljudi, eksplodirala. Iz ovoga možemo zaključiti da je moguće dovoljno dobro simulirati trajektoriju rakete, no teško je modelirati stvarni svijet te kako će se raketa točno ponašati u stvarnim uvjetima.\n"
   ]
  },
  {
   "cell_type": "markdown",
   "id": "f2164bf6",
   "metadata": {},
   "source": [
    "# Teorijska podloga rješenja i implementacija u python kod.\n",
    "    "
   ]
  },
  {
   "cell_type": "markdown",
   "id": "b4415973",
   "metadata": {},
   "source": [
    "Jednadžbu kretanja rakete možemo opisati formulom:"
   ]
  },
  {
   "cell_type": "markdown",
   "id": "5a806895",
   "metadata": {},
   "source": [
    "$\\vec{F_{net}} = \\vec{F_{pogon}} - \\vec{F_{otpor}} - \\vec{F_{G}}$"
   ]
  },
  {
   "cell_type": "markdown",
   "id": "3d68c071",
   "metadata": {},
   "source": [
    "Opišimo malo detaljnije svaku od ovih sila."
   ]
  },
  {
   "cell_type": "markdown",
   "id": "6c714b81",
   "metadata": {},
   "source": [
    "### Potisna sila (pogon) $\\vec{F_{pogon}}$"
   ]
  },
  {
   "cell_type": "markdown",
   "id": "43cc0557",
   "metadata": {},
   "source": [
    "S obzirom na to da je većini raketa za pogon potrebno tekuće gorivo, moguće je kontrolirati potisnu silu u ovisnosti o trenutnoj visini na kojoj se raketa nalazi. Na taj način ćemo vjerojatno postići optimalnu potrošnju goriva i time bolje performanse.\n",
    "\n",
    "No, kako bismo pojednostavili račun, pretpostavit ćemo da je potisna sila konstantna. Sada možemo matematički opisati potisnu silu kako slijedi:"
   ]
  },
  {
   "cell_type": "markdown",
   "id": "249ee617",
   "metadata": {},
   "source": [
    "$\\vec{F_{pogon}} = \\begin{cases} konstantna, &  t\\lt t_{izgaranja} \\\\ 0 , & inače \\end{cases}$"
   ]
  },
  {
   "cell_type": "markdown",
   "id": "22bb7f66",
   "metadata": {},
   "source": [
    "Možemo vidjeti da će raketa imati konstantnu potisnu silu sve do trenutka dok joj ne ponestane goriva. U tom trenutku će iznos potisne sile postati 0. Iz ovoga zaključujemo da potisna sila ovisi samo o proteklom vremenu."
   ]
  },
  {
   "cell_type": "markdown",
   "id": "6166281a",
   "metadata": {},
   "source": [
    "### Atmosferski otpor $\\vec{F_{otpor}}$"
   ]
  },
  {
   "cell_type": "markdown",
   "id": "a3d08558",
   "metadata": {},
   "source": [
    "Atmosferski otpor je vrsta parazitskog otpora (otpor koji nastaje prilikom kretanja tijela kroz fluid), koji nastaje zbog sudaranja molekula zraka s površinom rakete. Formula koja opisuje atmosferski otpor dana je formulom:"
   ]
  },
  {
   "cell_type": "markdown",
   "id": "d8414207",
   "metadata": {},
   "source": [
    "$\\vec{F_{otpor}} = \\frac{1}{2} \\cdot \\rho(z) \\cdot v^2 \\cdot C_D \\cdot A$"
   ]
  },
  {
   "cell_type": "markdown",
   "id": "7107ea05",
   "metadata": {},
   "source": [
    "gdje je $\\rho$ gustoća zraka, $v$ brzina rakete, $C_D$ koeficijent trenja, $A$ presjek rakete."
   ]
  },
  {
   "cell_type": "markdown",
   "id": "ce07af39",
   "metadata": {},
   "source": [
    "Gustoću zraka računamo prema izrazima:"
   ]
  },
  {
   "cell_type": "markdown",
   "id": "7dfaee52",
   "metadata": {},
   "source": [
    "$p(z)=\\frac{M \\cdot T(z)}{R \\cdot P(z)}$"
   ]
  },
  {
   "cell_type": "markdown",
   "id": "9bc7d7ef",
   "metadata": {},
   "source": [
    "$T(z) = T_0 - L_z$"
   ]
  },
  {
   "cell_type": "markdown",
   "id": "84dd8d00",
   "metadata": {},
   "source": [
    "$P(z) = P_0 \\cdot (\\frac{T_0}{T_0-L_z})^\\frac{g_0 \\cdot M}{R \\cdot L}$"
   ]
  },
  {
   "cell_type": "markdown",
   "id": "00f21420",
   "metadata": {},
   "source": [
    "### Otpor valova"
   ]
  },
  {
   "cell_type": "markdown",
   "id": "3fc7c3ec",
   "metadata": {},
   "source": [
    "Otpor valova nastaje zbog kompresije valova zraka te ćemo njega također morati uračunati pod sveukupni otpor. Taj otpor najviše dolazi do izražaja prije probijanja zvučnog zida što ćemo vidjeti u našoj simulaciji."
   ]
  },
  {
   "cell_type": "markdown",
   "id": "7311e882",
   "metadata": {},
   "source": [
    "### Gravitacijska sila $\\vec{F_{G}}$"
   ]
  },
  {
   "cell_type": "markdown",
   "id": "3cb9397c",
   "metadata": {},
   "source": [
    "Silu gravitacije predstavljamo sa dobro poznatom formulom: "
   ]
  },
  {
   "cell_type": "markdown",
   "id": "a0318a4c",
   "metadata": {},
   "source": [
    "$F_G=m \\cdot g$, gdje za klasične probleme koristimo $g=9.81 m/s^2$"
   ]
  },
  {
   "cell_type": "markdown",
   "id": "37bbc785",
   "metadata": {},
   "source": [
    "U slučaju rakete morat ćemo koristiti malo kompliciraniju verziju ove formule jer će se i gravitacijska akceleracija i masa rakete mijenjati u ovisnosti o vremenu i visini od površine zemlje:"
   ]
  },
  {
   "cell_type": "markdown",
   "id": "44057742",
   "metadata": {},
   "source": [
    "$F_G=m(t) \\cdot g(z)$"
   ]
  },
  {
   "cell_type": "markdown",
   "id": "35101777",
   "metadata": {},
   "source": [
    "gdje se funkcija gravitacijske akceleracije u ovisnosti o visini računa prema izrazu:"
   ]
  },
  {
   "cell_type": "markdown",
   "id": "b9c14155",
   "metadata": {},
   "source": [
    "$g(z) = \\frac{G \\cdot M_E}{(z+R_E)^2}$, gdje je $G$ gravitacijska konstanta, $M_E$ masa zemlje, $R_E$ radius zemlje i $z$ visina od površine zemlje"
   ]
  },
  {
   "cell_type": "markdown",
   "id": "623a2bc7",
   "metadata": {},
   "source": [
    ", a funkcija mase u ovisnosti u vremenu:"
   ]
  },
  {
   "cell_type": "markdown",
   "id": "908ce647",
   "metadata": {},
   "source": [
    "$m(t) = m_0 - \\dot{m}t$, gdje je $m_0$ početna masa, $t$ vrijeme, $\\dot{m}$ stopa promjene mase "
   ]
  },
  {
   "cell_type": "markdown",
   "id": "978a02e0",
   "metadata": {},
   "source": [
    "stopu promjene mase $\\dot{m}$ možemo izračunati prema Tsiolkovsky jednadžbi za rakete:"
   ]
  },
  {
   "cell_type": "markdown",
   "id": "01cc90f8",
   "metadata": {},
   "source": [
    "$\\dot{m} = \\frac{F_{pogon}}{g_0I_{sp}}$, gdje je $I_{sp}$ efikasnost motora koja je uglavnom poznata za rakete."
   ]
  },
  {
   "cell_type": "markdown",
   "id": "25830165",
   "metadata": {},
   "source": [
    "### Pomoćne biblioteke"
   ]
  },
  {
   "cell_type": "code",
   "execution_count": 1,
   "id": "7bf9fc73",
   "metadata": {},
   "outputs": [],
   "source": [
    "import math\n",
    "import numpy as np\n",
    "import matplotlib.pyplot as plt"
   ]
  },
  {
   "cell_type": "markdown",
   "id": "a2212b8c",
   "metadata": {},
   "source": [
    "### Inicijalizacija univerzalnih konstanti (G, M_earth, mol, R, P0, T0, rho0, g0)"
   ]
  },
  {
   "cell_type": "code",
   "execution_count": 2,
   "id": "77d1bc1c",
   "metadata": {},
   "outputs": [],
   "source": [
    "G = 6.67430e-11  # Newtonian constant of gravitation\n",
    "g0 = 9.80665  # standard acceleration of gravity\n",
    "M_earth = 5.972e24  # earth mass (kg)\n",
    "R_earth = 6371000  # earth radius (m)\n",
    "mol = 0.029  # molar mass of air\n",
    "rho_0 = 1.225  # air density\n",
    "R = 8.314  # gas constant\n",
    "P0 = 101325  # standard pressure (Pa), sea level\n",
    "T0 = 303  # temperature (K), sea level"
   ]
  },
  {
   "cell_type": "code",
   "execution_count": 3,
   "id": "d8b8dc39",
   "metadata": {},
   "outputs": [
    {
     "data": {
      "text/plain": [
       "1.1664388113095652"
      ]
     },
     "execution_count": 3,
     "metadata": {},
     "output_type": "execute_result"
    }
   ],
   "source": [
    "rho0 = (mol*P0)/(R*T0)  # air density, sea level\n",
    "rho0"
   ]
  },
  {
   "cell_type": "markdown",
   "id": "a6479716",
   "metadata": {},
   "source": [
    " ### Inicijalizacija specifikacija rakete (pogon, koef. trenja, promjer, površina, masa rakete s gorivom i bez, efikasnost motora, stopa promijene mase)"
   ]
  },
  {
   "cell_type": "code",
   "execution_count": 4,
   "id": "cc63bc20",
   "metadata": {},
   "outputs": [],
   "source": [
    "FT = 560000  # rocket thrust, in Newtons\n",
    "C0 = 0.75  # drag coefficient, see notes\n",
    "d = 1.7  # rocket diameter, in meters\n",
    "A = math.pi*(d/2) ** 2  # rocket cross-sectional area\n",
    "L = 27.4  # rocket length, in meters\n",
    "m0 = 46760  # initial mass, in kg (\"wet mass\")\n",
    "empty = 3120  # mass when fuel is expended, in kg (\"dry mass\")\n",
    "Isp = 221  # specific impulse, in seconds\n",
    "dm = FT/(g0*Isp)  # mass flow rate, dm/dt"
   ]
  },
  {
   "cell_type": "markdown",
   "id": "db0a19f2",
   "metadata": {},
   "source": [
    "### Inicijalizacija visine (1 m), brzine (0 m/s), mase (m0), gustoće zraka (rho0) i gravitacije (g0)"
   ]
  },
  {
   "cell_type": "code",
   "execution_count": 5,
   "id": "df43445e",
   "metadata": {},
   "outputs": [],
   "source": [
    "dt = 0.1  # time step\n",
    "z0 = 1  # intial altitude\n",
    "v0 = 0  # initial velocity\n",
    "v = v0\n",
    "z = z0\n",
    "V = [v]\n",
    "Z = [z]\n",
    "m = m0\n",
    "Rho=[rho0]\n",
    "T=[T0]\n",
    "P=[P0]\n",
    "M = [m]\n",
    "Thrust = [FT/m]\n",
    "Drag = [0]\n",
    "g=g0\n",
    "grav=[g]\n",
    "nextstage=0\n",
    "tmax = 500"
   ]
  },
  {
   "cell_type": "markdown",
   "id": "71ee98dd",
   "metadata": {},
   "source": [
    "### Pomoćne funkcije"
   ]
  },
  {
   "cell_type": "code",
   "execution_count": 6,
   "id": "4bd3145f",
   "metadata": {},
   "outputs": [],
   "source": [
    "def density(_z): \n",
    "    '''\n",
    "    promijena gustoće zraka ovisna o visini _z\n",
    "    '''\n",
    "    _mol = 0.029\n",
    "    _R = 8.314\n",
    "    _h = _z/1000  # _h, altitude in km\n",
    "    if _h <= 11:  # pressure and temperature values by altitude\n",
    "        _T = 288.15 - 6.5*_h\n",
    "        _P = 101325*((288.15/(288.15-6.5*_h))**(34.1632/-6.5))\n",
    "    elif 11 < _h and _h <= 20:\n",
    "        _T = 216.65\n",
    "        _P = 22632.06*math.exp(-34.1632*(_h-11)/216.65)\n",
    "    elif 20 < _h and _h <= 32:\n",
    "        _T = 196.65 + 0.001*_z\n",
    "        _P = 5474.889 * ((216.65/(216.65+(_h-20)))**(34.1632))\n",
    "    elif 32 < _h and _h <= 47:\n",
    "        _T = 139.05 + 2.8*_h\n",
    "        _P = 868.0187 * ((228.65/(228.65+2.8*(_h-32)))**(34.1632/2.8))\n",
    "    elif 47 < _h and _h <= 51:\n",
    "        _T = 270.65\n",
    "        _P = 110.9063 * math.exp(-34.1632*(_h-47)/270.65)\n",
    "    elif 51 < _h and _h <= 71:\n",
    "        _T = 413.45 - 2.8*_h\n",
    "        _P = 66.93887*((270.65/(270.65-2.8*(_h-51)))**(34.1632/-2.8))\n",
    "    else: #71 < _h and _h <= 86\n",
    "        _T = 356.65 - 2.0*_h\n",
    "        _P = 3.956420*((214.65/(214.65-2*(_h-71)))**(34.1632/-2))\n",
    "    \n",
    "    _rho = (_mol*_P)/(_R*_T)\n",
    "    if 86 < _h and _h <= 91:\n",
    "        _P = math.exp(-4.22012E-08*_h**5 + 2.13489E-05*_h**4 - 4.26388E-03*_h**3 + 0.421404*_h**2 - 20.8270*_h + 416.225)\n",
    "        _rho = math.exp(7.5691E-08*_h**5 - 3.76113E-05*_h**4 + 0.0074765*_h**3 - 0.743012*_h**2 + 36.7280*_h - 729.346 )\n",
    "        _T = 186.8673\n",
    "    elif 91 < _h and _h <= 100:\n",
    "        _P = math.exp(-4.22012E-08*_h**5 + 2.13489E-05*_h**4 - 4.26388E-03*_h**3 + 0.421404*_h**2 - 20.8270*_h + 416.225)\n",
    "        _rho = math.exp(7.5691E-08*_h**5 - 3.76113E-05*_h**4 + 0.0074765*_h**3 - 0.743012*_h**2 + 36.7280*_h - 729.346 )\n",
    "        _T = 263.1905-76.3232*math.sqrt(1 - ((_h-91)/-19.9429)**2)\n",
    "    elif 100 < _h and _h <= 110:\n",
    "        _P = math.exp(-4.22012E-08*_h**5 + 2.13489E-05*_h**4 - 4.26388E-03*_h**3 +0.421404*_h**2 - 20.8270*_h + 416.225)\n",
    "        _rho = math.exp(7.5691E-08*_h**5 - 3.76113E-05*_h**4 + 0.0074765*_h**3 - .743012*_h**2 + 36.7280*_h - 729.346 )\n",
    "        _T = 263.1905-76.3232*math.sqrt(1 - ((_h-91)/-19.9429)**2)\n",
    "    elif 110 < _h and _h <= 120:\n",
    "        _rho = math.exp(-8.854164E-05*_h**3 + 0.03373254*_h**2 - 4.390837*_h +176.5294)\n",
    "        _P = 0\n",
    "        _T = 240 + 12*(_h-110)\n",
    "    elif 120 < _h and _h <= 150:\n",
    "        _P = 0\n",
    "        _rho = math.exp(3.661771E-07*_h**4 - 2.154344E-04*_h**3 + 0.04809214*_h**2 -4.884744*_h + 172.3597)\n",
    "        _T = 1000 - 640*math.exp(-0.01875*(_h-120)*(6356.766 + 120)/(6356.766+_h))\n",
    "    elif 150 < _h: #and _h <= 200\n",
    "        _P = 0\n",
    "        _rho = 02.0763e-09\n",
    "        _T = 1000 - 640*math.exp(-0.01875*(_h-120)*(6356.766 + 120)/(6356.766+_h))\n",
    "    \n",
    "    return _rho, _T, _P\n",
    "\n",
    "def CD(_v, _T, _C0):\n",
    "    '''\n",
    "    Funkcija za izračunavanje koeficijenta otpora\n",
    "    '''\n",
    "    cs = math.sqrt(1.4*287*_T)  # sound speed as function of temperature\n",
    "    Mach = _v/cs  # Mach number\n",
    "    if Mach < 1:\n",
    "        _Cd = _C0/math.sqrt(1-Mach**2)  # Prandtl-Glauert Rule\n",
    "    elif Mach == 1:\n",
    "        Mach = 0.99999  # eliminate the singularity\n",
    "        _Cd = _C0/math.sqrt(1-Mach**2)\n",
    "    elif Mach > 1:\n",
    "        _Cd = _C0/math.sqrt(Mach**2 - 1)\n",
    "    \n",
    "    return _Cd"
   ]
  },
  {
   "cell_type": "markdown",
   "id": "c6826b4e",
   "metadata": {},
   "source": [
    "### Euler-Cromer metoda"
   ]
  },
  {
   "cell_type": "code",
   "execution_count": 7,
   "id": "0733ea29",
   "metadata": {
    "scrolled": false
   },
   "outputs": [
    {
     "name": "stdout",
     "output_type": "stream",
     "text": [
      "Rocket out of fuel! Altitude=119419.3079896698 meters time=168.9\n"
     ]
    }
   ],
   "source": [
    "no_fuel = False\n",
    "for t in np.arange(dt,tmax,dt):\n",
    "#     print(f\"t={t} G={G} M={M_earth} z={z}\")\n",
    "    g = (G*M_earth)/((z+R_earth) ** 2)  # gravitational acceleration, g(z)\n",
    "    m = m - (dm*dt)  # changing mass, m(t)\n",
    "    rho,temp,press = density(z) # changing air density by barometric formula, rho(z)\n",
    "    Cd = CD(v,temp,C0)\n",
    "    thrust = FT/m\n",
    "    drag = 0.5*rho*(v**2)*Cd*A/m\n",
    "    \n",
    "    if v < 0:  # flip drag force vector if rocket falls\n",
    "        drag = drag*-1\n",
    "        \n",
    "    v = v + (thrust - drag - g)*dt  # new velocity\n",
    "    z = z + v*dt  # new altitude\n",
    "    \n",
    "    V.append(v)\n",
    "    Z.append(z)\n",
    "    M.append(m)\n",
    "    grav.append(g)\n",
    "    Thrust.append(thrust)\n",
    "    Drag.append(drag)\n",
    "    Rho.append(rho)\n",
    "    T.append(temp)\n",
    "    P.append(press)\n",
    "    t1=t\n",
    "    if z < 0:  # rocket crashes or fails to launch\n",
    "        print(\"Rocket fail z=\",z)\n",
    "        break\n",
    "    elif m < empty and not no_fuel:  # rocket runs out of fuel, mass becomes stable\n",
    "        no_fuel = True\n",
    "        FT = 0\n",
    "        dm = 0\n",
    "        print(f\"Rocket out of fuel! Altitude={z} meters time={t}\")\n"
   ]
  },
  {
   "cell_type": "markdown",
   "id": "0c3d7e73",
   "metadata": {},
   "source": [
    "# Rasprava rezultata \n",
    "    "
   ]
  },
  {
   "cell_type": "markdown",
   "id": "fd9a823e",
   "metadata": {},
   "source": [
    "Prikažimo rezultate:"
   ]
  },
  {
   "cell_type": "code",
   "execution_count": 8,
   "id": "d5e5fb91",
   "metadata": {
    "scrolled": true
   },
   "outputs": [
    {
     "data": {
      "image/png": "[encoded data removed]",
      "text/plain": [
       "<Figure size 864x576 with 2 Axes>"
      ]
     },
     "metadata": {
      "needs_background": "light"
     },
     "output_type": "display_data"
    }
   ],
   "source": [
    "t = np.arange(dt,tmax+dt,dt)\n",
    "Z = np.array(Z)\n",
    "\n",
    "plt.figure(figsize=(12,8))\n",
    "\n",
    "plt.subplot(2,1,1)\n",
    "plt.plot(t,Z/1000)\n",
    "plt.title('Rocket altitude')\n",
    "plt.xlabel('time (s)')\n",
    "plt.ylabel('altitude (km)')\n",
    "\n",
    "plt.subplot(2,1,2)\n",
    "plt.plot(t,V)\n",
    "plt.title('Rocket velocity')\n",
    "plt.xlabel('time (s)')\n",
    "plt.ylabel('velocity (m/s)')\n",
    "\n",
    "plt.tight_layout()\n"
   ]
  },
  {
   "cell_type": "markdown",
   "id": "fc6090c1",
   "metadata": {},
   "source": [
    "Iz prethodna dva grafa možemo vidjeti visinu i brzinu rakete u ovisnosti o vremenu. Na donjem grafu uočavamo usporavanje rakete nakon 169 sekundi od polijetanja. U tom trenutku raketa se nalazi na visini od 120 kilometara od zemljine površine te je ostala bez goriva što možemo vidjeti i na donjem grafu potisne sile. Unatoč linearnom usporavanju rakete, visina i dalje raste skoro pa linearno jer je raketa dovoljno udaljena od zemljine površine da se sve manje mora boriti sa zemljinom gravitacijskom silom.\n",
    "\n",
    "Također, na krivulji brzine možemo uočiti neobično ponašanje između 65 i 95 sekundi nakon polijetanja. Naime, stagnacija u brzini u tom periodu se događa jer se raketa približava probijanju zvučnog zida. Tu do izražaja dolazi otpor valova, a to možemo primijetiti i na grafu otpora. Vidimo neobičan skok otpora nakon kojeg slijedi konstantna i niska razina otpora."
   ]
  },
  {
   "cell_type": "code",
   "execution_count": 9,
   "id": "86f7d9da",
   "metadata": {},
   "outputs": [
    {
     "data": {
      "image/png": "[encoded data removed]",
      "text/plain": [
       "<Figure size 864x864 with 3 Axes>"
      ]
     },
     "metadata": {
      "needs_background": "light"
     },
     "output_type": "display_data"
    }
   ],
   "source": [
    "Thrust = np.array(Thrust)\n",
    "M = np.array(M)\n",
    "\n",
    "plt.figure(figsize=(12,12))\n",
    "\n",
    "plt.subplot(3,1,1)\n",
    "plt.plot(t,Thrust*(M/1000))\n",
    "plt.title('Thrust force')\n",
    "plt.xlabel('time (s)')\n",
    "plt.ylabel('force (kN)')\n",
    "\n",
    "plt.subplot(3,1,2)\n",
    "plt.plot(t,Drag*M)\n",
    "plt.title('Drag force')\n",
    "plt.xlabel('time (s)')\n",
    "plt.ylabel('force (N)')\n",
    "\n",
    "plt.subplot(3,1,3)\n",
    "plt.plot(t,grav)\n",
    "plt.title('Gravitational acceleration')\n",
    "plt.xlabel('time (s)')\n",
    "plt.ylabel('g (m/s^2)')\n",
    "\n",
    "plt.tight_layout()\n"
   ]
  },
  {
   "cell_type": "markdown",
   "id": "24d597d1",
   "metadata": {},
   "source": [
    "Kao što smo vidjeli iz navedene simulacije, najveći dio posla se događa prije probijanja zvučnog zida, a upravo zbog toga što je otpor nakon probijanja zvučnog zida, na velikoj udaljenosti od zemljine površine, zanemariv. "
   ]
  },
  {
   "cell_type": "markdown",
   "id": "4ed1fbfb",
   "metadata": {},
   "source": [
    "# Zaključak\n",
    "    "
   ]
  },
  {
   "cell_type": "markdown",
   "id": "2689f280",
   "metadata": {},
   "source": [
    "Unatoč tome što su prve svemirske misije počele prije više od 60 godina i dalje je izrazito izazovno ispravno modelirati putanje svemirskih letjelica dijelom radi velikih udaljenosti koje moraju prijeći a dijelom radi mnogih nesigurnosti koje mogu nastupiti. Pri modeliranju ovakvih sustava izrazito je bitno paziti na detalje kako bi izbjegli novčane i vremenske troškove, a pogotovo kako bismo izbjegli ljudske gubitke.\n",
    "\n",
    "U zadnje vrijeme se mnogo priča o komercijalnom putovanju na Mars. Neki stručnjaci su dovoljno optimistični da tvrde da bi se to moglo ostvariti u ovom desetljeću, no s obzirom na izrazitu kompleksnost postupka mnogi su skeptični."
   ]
  },
  {
   "cell_type": "markdown",
   "id": "9e823b31",
   "metadata": {},
   "source": [
    "# Literatura"
   ]
  },
  {
   "cell_type": "markdown",
   "id": "2afe6051",
   "metadata": {},
   "source": [
    "- https://pages.vassar.edu/magnes/2019/05/12/computational-simulation-of-rocket-trajectories/\n",
    "- https://physics.info/constants/\n",
    "- https://physics.info/astronomical/\n",
    "- https://www.nasa.gov/\n",
    "- https://nssdc.gsfc.nasa.gov/\n",
    "- https://skybrary.aero/articles/parasite-drag"
   ]
  }
 ],
 "metadata": {
  "kernelspec": {
   "display_name": "Python 3 (ipykernel)",
   "language": "python",
   "name": "python3"
  },
  "language_info": {
   "codemirror_mode": {
    "name": "ipython",
    "version": 3
   },
   "file_extension": ".py",
   "mimetype": "text/x-python",
   "name": "python",
   "nbconvert_exporter": "python",
   "pygments_lexer": "ipython3",
   "version": "3.9.7"
  }
 },
 "nbformat": 4,
 "nbformat_minor": 5
}
