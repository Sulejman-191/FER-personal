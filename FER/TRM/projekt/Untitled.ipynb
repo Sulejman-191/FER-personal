{
 "cells": [
  {
   "cell_type": "markdown",
   "id": "7d9ab30e",
   "metadata": {},
   "source": [
    "# Sažetak "
   ]
  },
  {
   "cell_type": "markdown",
   "id": "c7649135",
   "metadata": {},
   "source": []
  },
  {
   "cell_type": "markdown",
   "id": "000986ec",
   "metadata": {},
   "source": [
    "# Uvod s istraživanjem područja\n"
   ]
  },
  {
   "cell_type": "markdown",
   "id": "776d25d4",
   "metadata": {},
   "source": []
  },
  {
   "cell_type": "markdown",
   "id": "995ff6f4",
   "metadata": {},
   "source": [
    "# Teorijska podloga rješenja i implementacija u python kod.\n",
    "    "
   ]
  },
  {
   "cell_type": "markdown",
   "id": "1888dde1",
   "metadata": {},
   "source": []
  },
  {
   "cell_type": "markdown",
   "id": "36e807e0",
   "metadata": {},
   "source": [
    "### Initialize universal constants (G, M_earth, mol, R, P@, T@, rho®, g@)"
   ]
  },
  {
   "cell_type": "code",
   "execution_count": null,
   "id": "79fec277",
   "metadata": {},
   "outputs": [],
   "source": [
    "G = 6.67430e-11  # Newtonian constant of gravitation\n",
    "g_0 = 9.80665  # standard acceleration of gravity\n",
    "M_earth = 5,972e24  # earth mass\n",
    "rho_0 = 1.225  # air density\n"
   ]
  },
  {
   "cell_type": "code",
   "execution_count": null,
   "id": "b203098a",
   "metadata": {},
   "outputs": [],
   "source": [
    "\n",
    "alt = 1  # altitude\n",
    "vel = 0  # velocity"
   ]
  },
  {
   "cell_type": "code",
   "execution_count": null,
   "id": "78a4635c",
   "metadata": {},
   "outputs": [],
   "source": [
    "Initialize universal constants (G, M_earth, mol, R, P@, T@, rho®, g@)\n",
    "e Initialize rocket specifications (thrust, drag coef., diameter, area, wet and dry mass,\n",
    "specific impulse, mass flow rate)\n",
    "e Euler-Cromer method\n",
    "» initialize altitude (1 m), velocity (@ m/s), mass (m@), air density (rho@), and\n",
    "gravity (gQ)\n",
    "for t from @ to tmax\n",
    "v update gravity, g(z)\n",
    "v update mass, m(t)\n",
    "call density function, [rho,T,P] = f(z)\n",
    "call wave drag function, Cd = f(v,T,C@)\n",
    "calculate thrust force, FT(m)\n",
    "calculate drag force, FD(rho,v,Cd,m)\n",
    "vvvv\n",
    "if [drag vector condition]\n",
    "v Euler-Cromer: v = v + (thrust - drag - g)*dt\n",
    "Z=2Z + v¥dt\n",
    "v save matrix values for v, z, m, g, thrust, drag, and rho\n",
    "> save end time\n",
    "if [crash condition]\n",
    "if [empty condition]\n",
    "end\n",
    "e Plot z vs. t, v vs. t\n",
    "e Plot FT, FD, and g vs. t\n",
    "¢ Define density function, [rho,T,P] = f(z)\n",
    "¢ Define wave drag function, Cd = f(v,T,C®)"
   ]
  },
  {
   "cell_type": "markdown",
   "id": "13ec07d4",
   "metadata": {},
   "source": [
    "# Rasprava rezultata \n",
    "    "
   ]
  },
  {
   "cell_type": "markdown",
   "id": "e06c3cb9",
   "metadata": {},
   "source": []
  },
  {
   "cell_type": "markdown",
   "id": "08a1828f",
   "metadata": {},
   "source": [
    "# Zaključak\n",
    "    "
   ]
  },
  {
   "cell_type": "markdown",
   "id": "758f5255",
   "metadata": {},
   "source": []
  },
  {
   "cell_type": "markdown",
   "id": "41646378",
   "metadata": {},
   "source": [
    "# Literatura"
   ]
  },
  {
   "cell_type": "markdown",
   "id": "b527725d",
   "metadata": {},
   "source": []
  }
 ],
 "metadata": {
  "kernelspec": {
   "display_name": "Python 3 (ipykernel)",
   "language": "python",
   "name": "python3"
  },
  "language_info": {
   "codemirror_mode": {
    "name": "ipython",
    "version": 3
   },
   "file_extension": ".py",
   "mimetype": "text/x-python",
   "name": "python",
   "nbconvert_exporter": "python",
   "pygments_lexer": "ipython3",
   "version": "3.9.7"
  }
 },
 "nbformat": 4,
 "nbformat_minor": 5
}
